{
 "cells": [
  {
   "cell_type": "code",
   "execution_count": 25,
   "id": "4de87487",
   "metadata": {},
   "outputs": [],
   "source": [
    "#Importar biblioteques"
   ]
  },
  {
   "cell_type": "code",
   "execution_count": 5,
   "id": "e7979160",
   "metadata": {},
   "outputs": [],
   "source": [
    "import pandas as pd\n",
    "import matplotlib.pyplot as plt\n",
    "import seaborn as sns\n"
   ]
  },
  {
   "cell_type": "code",
   "execution_count": 6,
   "id": "e2a45808",
   "metadata": {},
   "outputs": [],
   "source": [
    "#Establim format del seaborn"
   ]
  },
  {
   "cell_type": "code",
   "execution_count": 7,
   "id": "88785c46",
   "metadata": {},
   "outputs": [],
   "source": [
    "sns.set(style=\"darkgrid\")\n",
    "attack = pd.read_csv('datasets/attacking.csv')\n",
    "\n"
   ]
  },
  {
   "cell_type": "code",
   "execution_count": 8,
   "id": "122e9a09",
   "metadata": {},
   "outputs": [
    {
     "data": {
      "text/html": [
       "<div>\n",
       "<style scoped>\n",
       "    .dataframe tbody tr th:only-of-type {\n",
       "        vertical-align: middle;\n",
       "    }\n",
       "\n",
       "    .dataframe tbody tr th {\n",
       "        vertical-align: top;\n",
       "    }\n",
       "\n",
       "    .dataframe thead th {\n",
       "        text-align: right;\n",
       "    }\n",
       "</style>\n",
       "<table border=\"1\" class=\"dataframe\">\n",
       "  <thead>\n",
       "    <tr style=\"text-align: right;\">\n",
       "      <th></th>\n",
       "      <th>serial</th>\n",
       "      <th>assists</th>\n",
       "      <th>corner_taken</th>\n",
       "      <th>offsides</th>\n",
       "      <th>dribbles</th>\n",
       "      <th>match_played</th>\n",
       "    </tr>\n",
       "  </thead>\n",
       "  <tbody>\n",
       "    <tr>\n",
       "      <th>count</th>\n",
       "      <td>176.000000</td>\n",
       "      <td>176.000000</td>\n",
       "      <td>176.000000</td>\n",
       "      <td>176.000000</td>\n",
       "      <td>176.000000</td>\n",
       "      <td>176.000000</td>\n",
       "    </tr>\n",
       "    <tr>\n",
       "      <th>mean</th>\n",
       "      <td>47.613636</td>\n",
       "      <td>1.596591</td>\n",
       "      <td>3.340909</td>\n",
       "      <td>1.420455</td>\n",
       "      <td>8.982955</td>\n",
       "      <td>6.988636</td>\n",
       "    </tr>\n",
       "    <tr>\n",
       "      <th>std</th>\n",
       "      <td>22.527916</td>\n",
       "      <td>1.042957</td>\n",
       "      <td>6.266257</td>\n",
       "      <td>2.246122</td>\n",
       "      <td>11.190034</td>\n",
       "      <td>2.563454</td>\n",
       "    </tr>\n",
       "    <tr>\n",
       "      <th>min</th>\n",
       "      <td>1.000000</td>\n",
       "      <td>1.000000</td>\n",
       "      <td>0.000000</td>\n",
       "      <td>0.000000</td>\n",
       "      <td>0.000000</td>\n",
       "      <td>1.000000</td>\n",
       "    </tr>\n",
       "    <tr>\n",
       "      <th>25%</th>\n",
       "      <td>24.000000</td>\n",
       "      <td>1.000000</td>\n",
       "      <td>0.000000</td>\n",
       "      <td>0.000000</td>\n",
       "      <td>2.000000</td>\n",
       "      <td>5.000000</td>\n",
       "    </tr>\n",
       "    <tr>\n",
       "      <th>50%</th>\n",
       "      <td>64.000000</td>\n",
       "      <td>1.000000</td>\n",
       "      <td>0.000000</td>\n",
       "      <td>0.000000</td>\n",
       "      <td>5.000000</td>\n",
       "      <td>6.500000</td>\n",
       "    </tr>\n",
       "    <tr>\n",
       "      <th>75%</th>\n",
       "      <td>64.000000</td>\n",
       "      <td>2.000000</td>\n",
       "      <td>4.250000</td>\n",
       "      <td>2.000000</td>\n",
       "      <td>12.000000</td>\n",
       "      <td>8.000000</td>\n",
       "    </tr>\n",
       "    <tr>\n",
       "      <th>max</th>\n",
       "      <td>64.000000</td>\n",
       "      <td>7.000000</td>\n",
       "      <td>36.000000</td>\n",
       "      <td>10.000000</td>\n",
       "      <td>83.000000</td>\n",
       "      <td>13.000000</td>\n",
       "    </tr>\n",
       "  </tbody>\n",
       "</table>\n",
       "</div>"
      ],
      "text/plain": [
       "           serial     assists  corner_taken    offsides    dribbles  \\\n",
       "count  176.000000  176.000000    176.000000  176.000000  176.000000   \n",
       "mean    47.613636    1.596591      3.340909    1.420455    8.982955   \n",
       "std     22.527916    1.042957      6.266257    2.246122   11.190034   \n",
       "min      1.000000    1.000000      0.000000    0.000000    0.000000   \n",
       "25%     24.000000    1.000000      0.000000    0.000000    2.000000   \n",
       "50%     64.000000    1.000000      0.000000    0.000000    5.000000   \n",
       "75%     64.000000    2.000000      4.250000    2.000000   12.000000   \n",
       "max     64.000000    7.000000     36.000000   10.000000   83.000000   \n",
       "\n",
       "       match_played  \n",
       "count    176.000000  \n",
       "mean       6.988636  \n",
       "std        2.563454  \n",
       "min        1.000000  \n",
       "25%        5.000000  \n",
       "50%        6.500000  \n",
       "75%        8.000000  \n",
       "max       13.000000  "
      ]
     },
     "execution_count": 8,
     "metadata": {},
     "output_type": "execute_result"
    }
   ],
   "source": [
    "attack.describe()"
   ]
  },
  {
   "cell_type": "code",
   "execution_count": 9,
   "id": "41992731",
   "metadata": {
    "scrolled": true
   },
   "outputs": [
    {
     "data": {
      "text/html": [
       "<div>\n",
       "<style scoped>\n",
       "    .dataframe tbody tr th:only-of-type {\n",
       "        vertical-align: middle;\n",
       "    }\n",
       "\n",
       "    .dataframe tbody tr th {\n",
       "        vertical-align: top;\n",
       "    }\n",
       "\n",
       "    .dataframe thead th {\n",
       "        text-align: right;\n",
       "    }\n",
       "</style>\n",
       "<table border=\"1\" class=\"dataframe\">\n",
       "  <thead>\n",
       "    <tr style=\"text-align: right;\">\n",
       "      <th></th>\n",
       "      <th>serial</th>\n",
       "      <th>player_name</th>\n",
       "      <th>club</th>\n",
       "      <th>position</th>\n",
       "      <th>assists</th>\n",
       "      <th>corner_taken</th>\n",
       "      <th>offsides</th>\n",
       "      <th>dribbles</th>\n",
       "      <th>match_played</th>\n",
       "    </tr>\n",
       "  </thead>\n",
       "  <tbody>\n",
       "    <tr>\n",
       "      <th>0</th>\n",
       "      <td>1</td>\n",
       "      <td>Bruno Fernandes</td>\n",
       "      <td>Man. United</td>\n",
       "      <td>Midfielder</td>\n",
       "      <td>7</td>\n",
       "      <td>10</td>\n",
       "      <td>2</td>\n",
       "      <td>7</td>\n",
       "      <td>7</td>\n",
       "    </tr>\n",
       "    <tr>\n",
       "      <th>1</th>\n",
       "      <td>2</td>\n",
       "      <td>Vinícius Júnior</td>\n",
       "      <td>Real Madrid</td>\n",
       "      <td>Forward</td>\n",
       "      <td>6</td>\n",
       "      <td>3</td>\n",
       "      <td>4</td>\n",
       "      <td>83</td>\n",
       "      <td>13</td>\n",
       "    </tr>\n",
       "    <tr>\n",
       "      <th>2</th>\n",
       "      <td>2</td>\n",
       "      <td>Sané</td>\n",
       "      <td>Bayern</td>\n",
       "      <td>Midfielder</td>\n",
       "      <td>6</td>\n",
       "      <td>3</td>\n",
       "      <td>3</td>\n",
       "      <td>32</td>\n",
       "      <td>10</td>\n",
       "    </tr>\n",
       "    <tr>\n",
       "      <th>3</th>\n",
       "      <td>4</td>\n",
       "      <td>Antony</td>\n",
       "      <td>Ajax</td>\n",
       "      <td>Forward</td>\n",
       "      <td>5</td>\n",
       "      <td>3</td>\n",
       "      <td>4</td>\n",
       "      <td>28</td>\n",
       "      <td>7</td>\n",
       "    </tr>\n",
       "    <tr>\n",
       "      <th>4</th>\n",
       "      <td>5</td>\n",
       "      <td>Alexander-Arnold</td>\n",
       "      <td>Liverpool</td>\n",
       "      <td>Defender</td>\n",
       "      <td>4</td>\n",
       "      <td>36</td>\n",
       "      <td>0</td>\n",
       "      <td>9</td>\n",
       "      <td>9</td>\n",
       "    </tr>\n",
       "  </tbody>\n",
       "</table>\n",
       "</div>"
      ],
      "text/plain": [
       "   serial       player_name         club    position  assists  corner_taken  \\\n",
       "0       1   Bruno Fernandes  Man. United  Midfielder        7            10   \n",
       "1       2   Vinícius Júnior  Real Madrid     Forward        6             3   \n",
       "2       2              Sané       Bayern  Midfielder        6             3   \n",
       "3       4            Antony         Ajax     Forward        5             3   \n",
       "4       5  Alexander-Arnold    Liverpool    Defender        4            36   \n",
       "\n",
       "   offsides  dribbles  match_played  \n",
       "0         2         7             7  \n",
       "1         4        83            13  \n",
       "2         3        32            10  \n",
       "3         4        28             7  \n",
       "4         0         9             9  "
      ]
     },
     "execution_count": 9,
     "metadata": {},
     "output_type": "execute_result"
    }
   ],
   "source": [
    "attack.head()"
   ]
  },
  {
   "cell_type": "markdown",
   "id": "f5d96a02",
   "metadata": {},
   "source": [
    "# Mostrar els màxims assistidors de la competició"
   ]
  },
  {
   "cell_type": "code",
   "execution_count": 45,
   "id": "a9cfca28",
   "metadata": {},
   "outputs": [],
   "source": [
    "y1 = attack.assists.head(5)\n",
    "x1 = attack.player_name.head(5)"
   ]
  },
  {
   "cell_type": "code",
   "execution_count": 46,
   "id": "0d2dbab8",
   "metadata": {},
   "outputs": [
    {
     "data": {
      "text/plain": [
       "(0     Bruno Fernandes\n",
       " 1     Vinícius Júnior\n",
       " 2                Sané\n",
       " 3              Antony\n",
       " 4    Alexander-Arnold\n",
       " Name: player_name, dtype: object,\n",
       " 0    7\n",
       " 1    6\n",
       " 2    6\n",
       " 3    5\n",
       " 4    4\n",
       " Name: assists, dtype: int64)"
      ]
     },
     "execution_count": 46,
     "metadata": {},
     "output_type": "execute_result"
    }
   ],
   "source": [
    "x1,y1"
   ]
  },
  {
   "cell_type": "code",
   "execution_count": 158,
   "id": "d2f9b821",
   "metadata": {},
   "outputs": [],
   "source": [
    "y = attack.player_name.head(5)\n",
    "x = attack.assists.head(5)"
   ]
  },
  {
   "cell_type": "code",
   "execution_count": 160,
   "id": "180b7b72",
   "metadata": {},
   "outputs": [
    {
     "data": {
      "text/plain": [
       "<BarContainer object of 5 artists>"
      ]
     },
     "execution_count": 160,
     "metadata": {},
     "output_type": "execute_result"
    },
    {
     "data": {
      "image/png": "[encoded data removed]",
      "text/plain": [
       "<Figure size 640x480 with 1 Axes>"
      ]
     },
     "metadata": {},
     "output_type": "display_data"
    }
   ],
   "source": [
    "plt.barh(y,x)"
   ]
  },
  {
   "cell_type": "markdown",
   "id": "22c305b3",
   "metadata": {},
   "source": [
    "# Mostrar qtt de clubs que apareixen al dataset"
   ]
  },
  {
   "cell_type": "code",
   "execution_count": 161,
   "id": "81c0d823",
   "metadata": {},
   "outputs": [
    {
     "data": {
      "image/png": "[encoded data removed]",
      "text/plain": [
       "<Figure size 640x480 with 1 Axes>"
      ]
     },
     "metadata": {},
     "output_type": "display_data"
    }
   ],
   "source": [
    "qttClubsApareguts = attack.groupby(['club']).size().head().plot(kind = \"bar\")"
   ]
  },
  {
   "cell_type": "code",
   "execution_count": 165,
   "id": "b2664677",
   "metadata": {},
   "outputs": [
    {
     "data": {
      "image/png": "[encoded data removed]",
      "text/plain": [
       "<Figure size 640x480 with 1 Axes>"
      ]
     },
     "metadata": {},
     "output_type": "display_data"
    }
   ],
   "source": [
    "qttClubsApareguts = attack.groupby(['club']).size().head().plot(kind = \"pie\")"
   ]
  },
  {
   "cell_type": "code",
   "execution_count": 166,
   "id": "549454db",
   "metadata": {},
   "outputs": [],
   "source": [
    "qttClubsApareguts = attack.groupby(['club']).size().head()"
   ]
  },
  {
   "cell_type": "code",
   "execution_count": 167,
   "id": "9c70964f",
   "metadata": {},
   "outputs": [
    {
     "data": {
      "text/plain": [
       "club\n",
       "Ajax         11\n",
       "Atalanta      9\n",
       "Atlético      5\n",
       "Barcelona     1\n",
       "Bayern       11\n",
       "dtype: int64"
      ]
     },
     "execution_count": 167,
     "metadata": {},
     "output_type": "execute_result"
    }
   ],
   "source": [
    "qttClubsApareguts"
   ]
  },
  {
   "cell_type": "code",
   "execution_count": null,
   "id": "4ff81035",
   "metadata": {},
   "outputs": [],
   "source": []
  }
 ],
 "metadata": {
  "kernelspec": {
   "display_name": "Python 3 (ipykernel)",
   "language": "python",
   "name": "python3"
  },
  "language_info": {
   "codemirror_mode": {
    "name": "ipython",
    "version": 3
   },
   "file_extension": ".py",
   "mimetype": "text/x-python",
   "name": "python",
   "nbconvert_exporter": "python",
   "pygments_lexer": "ipython3",
   "version": "3.8.0"
  }
 },
 "nbformat": 4,
 "nbformat_minor": 5
}
