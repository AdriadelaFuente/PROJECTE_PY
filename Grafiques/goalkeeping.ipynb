{
 "cells": [
  {
   "cell_type": "code",
   "execution_count": 1,
   "id": "02c1e006",
   "metadata": {},
   "outputs": [],
   "source": [
    "import pandas as pd\n",
    "import matplotlib.pyplot as plt\n",
    "import seaborn as sns"
   ]
  },
  {
   "cell_type": "code",
   "execution_count": 3,
   "id": "4650ac4e",
   "metadata": {},
   "outputs": [],
   "source": [
    "#Establim format del seaborn"
   ]
  },
  {
   "cell_type": "code",
   "execution_count": 4,
   "id": "07c15a22",
   "metadata": {},
   "outputs": [],
   "source": [
    "gk = pd.read_csv('../datasets/goalkeeping.csv')\n",
    "sns.set(style=\"darkgrid\")"
   ]
  },
  {
   "cell_type": "code",
   "execution_count": 5,
   "id": "93093c92",
   "metadata": {},
   "outputs": [
    {
     "data": {
      "text/html": [
       "<div>\n",
       "<style scoped>\n",
       "    .dataframe tbody tr th:only-of-type {\n",
       "        vertical-align: middle;\n",
       "    }\n",
       "\n",
       "    .dataframe tbody tr th {\n",
       "        vertical-align: top;\n",
       "    }\n",
       "\n",
       "    .dataframe thead th {\n",
       "        text-align: right;\n",
       "    }\n",
       "</style>\n",
       "<table border=\"1\" class=\"dataframe\">\n",
       "  <thead>\n",
       "    <tr style=\"text-align: right;\">\n",
       "      <th></th>\n",
       "      <th>serial</th>\n",
       "      <th>saved</th>\n",
       "      <th>conceded</th>\n",
       "      <th>saved_penalties</th>\n",
       "      <th>cleansheets</th>\n",
       "      <th>punches made</th>\n",
       "      <th>match_played</th>\n",
       "    </tr>\n",
       "  </thead>\n",
       "  <tbody>\n",
       "    <tr>\n",
       "      <th>count</th>\n",
       "      <td>53.000000</td>\n",
       "      <td>53.000000</td>\n",
       "      <td>53.000000</td>\n",
       "      <td>53.000000</td>\n",
       "      <td>53.000000</td>\n",
       "      <td>53.000000</td>\n",
       "      <td>53.000000</td>\n",
       "    </tr>\n",
       "    <tr>\n",
       "      <th>mean</th>\n",
       "      <td>25.962264</td>\n",
       "      <td>13.528302</td>\n",
       "      <td>7.169811</td>\n",
       "      <td>0.113208</td>\n",
       "      <td>1.320755</td>\n",
       "      <td>2.075472</td>\n",
       "      <td>4.773585</td>\n",
       "    </tr>\n",
       "    <tr>\n",
       "      <th>std</th>\n",
       "      <td>15.197371</td>\n",
       "      <td>11.025502</td>\n",
       "      <td>5.158025</td>\n",
       "      <td>0.319878</td>\n",
       "      <td>1.541398</td>\n",
       "      <td>2.622749</td>\n",
       "      <td>3.394801</td>\n",
       "    </tr>\n",
       "    <tr>\n",
       "      <th>min</th>\n",
       "      <td>1.000000</td>\n",
       "      <td>1.000000</td>\n",
       "      <td>0.000000</td>\n",
       "      <td>0.000000</td>\n",
       "      <td>0.000000</td>\n",
       "      <td>0.000000</td>\n",
       "      <td>1.000000</td>\n",
       "    </tr>\n",
       "    <tr>\n",
       "      <th>25%</th>\n",
       "      <td>11.000000</td>\n",
       "      <td>5.000000</td>\n",
       "      <td>3.000000</td>\n",
       "      <td>0.000000</td>\n",
       "      <td>0.000000</td>\n",
       "      <td>0.000000</td>\n",
       "      <td>2.000000</td>\n",
       "    </tr>\n",
       "    <tr>\n",
       "      <th>50%</th>\n",
       "      <td>25.000000</td>\n",
       "      <td>13.000000</td>\n",
       "      <td>6.000000</td>\n",
       "      <td>0.000000</td>\n",
       "      <td>1.000000</td>\n",
       "      <td>1.000000</td>\n",
       "      <td>5.000000</td>\n",
       "    </tr>\n",
       "    <tr>\n",
       "      <th>75%</th>\n",
       "      <td>38.000000</td>\n",
       "      <td>18.000000</td>\n",
       "      <td>11.000000</td>\n",
       "      <td>0.000000</td>\n",
       "      <td>2.000000</td>\n",
       "      <td>3.000000</td>\n",
       "      <td>6.000000</td>\n",
       "    </tr>\n",
       "    <tr>\n",
       "      <th>max</th>\n",
       "      <td>52.000000</td>\n",
       "      <td>61.000000</td>\n",
       "      <td>20.000000</td>\n",
       "      <td>1.000000</td>\n",
       "      <td>5.000000</td>\n",
       "      <td>12.000000</td>\n",
       "      <td>13.000000</td>\n",
       "    </tr>\n",
       "  </tbody>\n",
       "</table>\n",
       "</div>"
      ],
      "text/plain": [
       "          serial      saved   conceded  saved_penalties  cleansheets  \\\n",
       "count  53.000000  53.000000  53.000000        53.000000    53.000000   \n",
       "mean   25.962264  13.528302   7.169811         0.113208     1.320755   \n",
       "std    15.197371  11.025502   5.158025         0.319878     1.541398   \n",
       "min     1.000000   1.000000   0.000000         0.000000     0.000000   \n",
       "25%    11.000000   5.000000   3.000000         0.000000     0.000000   \n",
       "50%    25.000000  13.000000   6.000000         0.000000     1.000000   \n",
       "75%    38.000000  18.000000  11.000000         0.000000     2.000000   \n",
       "max    52.000000  61.000000  20.000000         1.000000     5.000000   \n",
       "\n",
       "       punches made  match_played  \n",
       "count     53.000000     53.000000  \n",
       "mean       2.075472      4.773585  \n",
       "std        2.622749      3.394801  \n",
       "min        0.000000      1.000000  \n",
       "25%        0.000000      2.000000  \n",
       "50%        1.000000      5.000000  \n",
       "75%        3.000000      6.000000  \n",
       "max       12.000000     13.000000  "
      ]
     },
     "execution_count": 5,
     "metadata": {},
     "output_type": "execute_result"
    }
   ],
   "source": [
    "gk.describe()"
   ]
  },
  {
   "cell_type": "code",
   "execution_count": 6,
   "id": "7a9644a1",
   "metadata": {},
   "outputs": [
    {
     "data": {
      "text/html": [
       "<div>\n",
       "<style scoped>\n",
       "    .dataframe tbody tr th:only-of-type {\n",
       "        vertical-align: middle;\n",
       "    }\n",
       "\n",
       "    .dataframe tbody tr th {\n",
       "        vertical-align: top;\n",
       "    }\n",
       "\n",
       "    .dataframe thead th {\n",
       "        text-align: right;\n",
       "    }\n",
       "</style>\n",
       "<table border=\"1\" class=\"dataframe\">\n",
       "  <thead>\n",
       "    <tr style=\"text-align: right;\">\n",
       "      <th></th>\n",
       "      <th>serial</th>\n",
       "      <th>player_name</th>\n",
       "      <th>club</th>\n",
       "      <th>position</th>\n",
       "      <th>saved</th>\n",
       "      <th>conceded</th>\n",
       "      <th>saved_penalties</th>\n",
       "      <th>cleansheets</th>\n",
       "      <th>punches made</th>\n",
       "      <th>match_played</th>\n",
       "    </tr>\n",
       "  </thead>\n",
       "  <tbody>\n",
       "    <tr>\n",
       "      <th>0</th>\n",
       "      <td>1</td>\n",
       "      <td>Courtois</td>\n",
       "      <td>Real Madrid</td>\n",
       "      <td>Goalkeeper</td>\n",
       "      <td>61</td>\n",
       "      <td>14</td>\n",
       "      <td>1</td>\n",
       "      <td>5</td>\n",
       "      <td>4</td>\n",
       "      <td>13</td>\n",
       "    </tr>\n",
       "    <tr>\n",
       "      <th>1</th>\n",
       "      <td>2</td>\n",
       "      <td>Rulli</td>\n",
       "      <td>Villarreal</td>\n",
       "      <td>Goalkeeper</td>\n",
       "      <td>41</td>\n",
       "      <td>16</td>\n",
       "      <td>0</td>\n",
       "      <td>3</td>\n",
       "      <td>12</td>\n",
       "      <td>12</td>\n",
       "    </tr>\n",
       "    <tr>\n",
       "      <th>2</th>\n",
       "      <td>3</td>\n",
       "      <td>Vlachodimos</td>\n",
       "      <td>Benfica</td>\n",
       "      <td>Goalkeeper</td>\n",
       "      <td>38</td>\n",
       "      <td>17</td>\n",
       "      <td>1</td>\n",
       "      <td>5</td>\n",
       "      <td>5</td>\n",
       "      <td>10</td>\n",
       "    </tr>\n",
       "    <tr>\n",
       "      <th>3</th>\n",
       "      <td>4</td>\n",
       "      <td>Athanasiadis</td>\n",
       "      <td>Sheriff</td>\n",
       "      <td>Goalkeeper</td>\n",
       "      <td>29</td>\n",
       "      <td>8</td>\n",
       "      <td>0</td>\n",
       "      <td>1</td>\n",
       "      <td>2</td>\n",
       "      <td>5</td>\n",
       "    </tr>\n",
       "    <tr>\n",
       "      <th>4</th>\n",
       "      <td>5</td>\n",
       "      <td>Mignolet</td>\n",
       "      <td>Club Brugge</td>\n",
       "      <td>Goalkeeper</td>\n",
       "      <td>28</td>\n",
       "      <td>20</td>\n",
       "      <td>0</td>\n",
       "      <td>0</td>\n",
       "      <td>1</td>\n",
       "      <td>6</td>\n",
       "    </tr>\n",
       "  </tbody>\n",
       "</table>\n",
       "</div>"
      ],
      "text/plain": [
       "   serial   player_name         club    position  saved  conceded  \\\n",
       "0       1      Courtois  Real Madrid  Goalkeeper     61        14   \n",
       "1       2         Rulli   Villarreal  Goalkeeper     41        16   \n",
       "2       3   Vlachodimos      Benfica  Goalkeeper     38        17   \n",
       "3       4  Athanasiadis      Sheriff  Goalkeeper     29         8   \n",
       "4       5      Mignolet  Club Brugge  Goalkeeper     28        20   \n",
       "\n",
       "   saved_penalties  cleansheets  punches made  match_played  \n",
       "0                1            5             4            13  \n",
       "1                0            3            12            12  \n",
       "2                1            5             5            10  \n",
       "3                0            1             2             5  \n",
       "4                0            0             1             6  "
      ]
     },
     "execution_count": 6,
     "metadata": {},
     "output_type": "execute_result"
    }
   ],
   "source": [
    "gk.head()"
   ]
  },
  {
   "cell_type": "code",
   "execution_count": 12,
   "id": "d9b0ae5f",
   "metadata": {},
   "outputs": [
    {
     "data": {
      "text/plain": [
       "<AxesSubplot: xlabel='player_name'>"
      ]
     },
     "execution_count": 12,
     "metadata": {},
     "output_type": "execute_result"
    },
    {
     "data": {
      "image/png": "[encoded data removed]",
      "text/plain": [
       "<Figure size 640x480 with 1 Axes>"
      ]
     },
     "metadata": {},
     "output_type": "display_data"
    }
   ],
   "source": [
    "top = gk.head(10)\n",
    "top.plot(kind='bar', y='saved', x='player_name', color = 'darkviolet')"
   ]
  },
  {
   "cell_type": "code",
   "execution_count": 16,
   "id": "d0057901",
   "metadata": {},
   "outputs": [
    {
     "data": {
      "text/plain": [
       "<AxesSubplot: xlabel='player_name'>"
      ]
     },
     "execution_count": 16,
     "metadata": {},
     "output_type": "execute_result"
    },
    {
     "data": {
      "image/png": "[encoded data removed]",
      "text/plain": [
       "<Figure size 640x480 with 1 Axes>"
      ]
     },
     "metadata": {},
     "output_type": "display_data"
    }
   ],
   "source": [
    "aux=gk.sort_values(by='saved_penalties', ascending=False)\n",
    "aux=aux.head(10)\n",
    "aux.plot(kind='bar', y='saved_penalties', x='player_name', color='green')"
   ]
  },
  {
   "cell_type": "code",
   "execution_count": null,
   "id": "119d77b9",
   "metadata": {},
   "outputs": [],
   "source": []
  }
 ],
 "metadata": {
  "kernelspec": {
   "display_name": "Python 3 (ipykernel)",
   "language": "python",
   "name": "python3"
  },
  "language_info": {
   "codemirror_mode": {
    "name": "ipython",
    "version": 3
   },
   "file_extension": ".py",
   "mimetype": "text/x-python",
   "name": "python",
   "nbconvert_exporter": "python",
   "pygments_lexer": "ipython3",
   "version": "3.8.0"
  }
 },
 "nbformat": 4,
 "nbformat_minor": 5
}
